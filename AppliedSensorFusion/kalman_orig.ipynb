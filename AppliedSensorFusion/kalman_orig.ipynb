{
 "cells": [
  {
   "cell_type": "markdown",
   "id": "d065cfd6-d255-495f-9221-209bdd9aba3e",
   "metadata": {},
   "source": [
    "(Kalman:kalman)=\n",
    "# Kalman Filter\n",
    "The Kalman Filter origins from the work of Norbert Wiener's in the 1940s {cite}`wiener1949`. The central problem to his works was the separation of the signal from the additive combination of signal and noise. One could say that Wiener's main contribution was the formulation of the problem in terms of minimizing the mean square error in th time domain - as opposed to the frequency domain which was the dominating approach at the time.\n",
    "\n",
    "In the 1960 Rudolf Emil Kalman considerred the same problem as Wiener. In his famous paper {cite}`kalman1960` he introduced the discrete formulation together with the state-space notation in the time domain which gained imediate popularity empowered by the advances in computer technology at the time. The Kalman Filter was early adopted by the navigation community, and is today regarded as the main workhorse for the vast majority of navigation applications.\n",
    "\n",
    "So, what is a Kalman Filter?\n",
    "\n",
    "![navigation](fig/navigation.jpg)\n",
    "\n",
    "```{note}\n",
    "A Kalman Filter is an recursive algorithm that provides estimates of a state vector as a weighted sum of the forward propagation of the previous state vector, and the current measurements.\n",
    "```"
   ]
  }
 ],
 "metadata": {
  "kernelspec": {
   "display_name": "Python 3 (ipykernel)",
   "language": "python",
   "name": "python3"
  },
  "language_info": {
   "codemirror_mode": {
    "name": "ipython",
    "version": 3
   },
   "file_extension": ".py",
   "mimetype": "text/x-python",
   "name": "python",
   "nbconvert_exporter": "python",
   "pygments_lexer": "ipython3",
   "version": "3.9.7"
  }
 },
 "nbformat": 4,
 "nbformat_minor": 5
}
