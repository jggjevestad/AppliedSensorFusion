{
 "cells": [
  {
   "cell_type": "markdown",
   "metadata": {},
   "source": [
    "(System:system)=\n",
    "# System Dynamics\n",
    "So, now that we have been introduced to the idea of filtering and how to recursively compute estimates as the measurements become available. What is the next step?\n",
    "\n",
    "Imagine yourself being onboard a large container ship at constant velocity, and your task is to report the position of the ship every second. Wouldn't you agree that there is quite a lot of information in just knowing that you are onboard such a large, heavy ship?\n",
    "\n",
    "![ship](fig/ship.jpg)\n",
    "\n",
    "The large mass and inertia of this vessel means that the positions the next seconds, or even minutes, are highly predictable. Just by knowing the heading and velocity of this vessel at some point in time, you can easily predict the position with high accuracy for some time ahead even without making any measurements at all! So, to exploit this valuable information we need to introduce a model for the physical behaviour of our platform. This is what is called the *dynamic model*.\n",
    "\n",
    "The level of detail needed for the dynamic model depends highly on the type of measurements that are available from our sensors, together with their sampling rate and precision. Let's say we have frequent measurements available from sensors on a platform in a highly deterministic environment, e.g. a trolley on rails. In this case we can choose a rather simple dynamic model. However, if we have a platform with in a highly unpredictable environment, e.g. a drone, then we might need to introduce a more complex dynamic model containing elements such as, e.g. wind speed, wind direction and turbulence.\n",
    "\n",
    "```{figure} fig/simple.jpg\n",
    "---\n",
    "height: 200px\n",
    "name: Simple\n",
    "---\n",
    "Simple\n",
    "```\n",
    "\n",
    "```{figure} fig/complex.jpg\n",
    "---\n",
    "height: 200px\n",
    "name: Complex\n",
    "---\n",
    "Complex\n",
    "```\n",
    "\n",
    "First let's start with the simple example of a trolley on rails and start developing the dynamic model from there.\n",
    "\n",
    "One good reference to have at hand at this moment is An Introduction to the Kalman Filter {cite}`welch1995`"
   ]
  },
  {
   "cell_type": "markdown",
   "metadata": {},
   "source": [
    "## Differential Equations\n",
    "The starting point is a first order, linear differential equation. It will look something like this.\n",
    "\n",
    "$$\n",
    "\\dot{x}=Fx\n",
    "$$\n",
    "\n",
    "where the vector $x$ is the *state vector* containing the parameters to be estimated such as, e.g. position and velocity. The vector $\\dot{x}$ is the time derivative of the state vector. The matrix $F$ is called the *dynamics matrix* and it basically connects the state vector $x$ with it's own time derivative. This accounts for the *deterministic* part of the dynamic model, i.e. the physical laws that apply to the platform.\n",
    "\n",
    "```{figure} fig/trolley.png\n",
    ":name: trolley\n",
    "\n",
    "Trolley on rails\n",
    "```\n",
    "\n",
    "So, if our trolley rolled perfectly on the rails without any friction or vibrations what so ever, we could use this equation to compute the state vector for eternity as this equation would perfectly describe the platform behaviour. However, in the real world there will always be friction, vibrations and air resistance making this equation just approximately true. We could of course choose to model both the friction, vibrations and air resistance to the best of our extent, but still there will inevitably be some degree of approximations involved in our models of the real world.\n",
    "\n",
    "Instead of modelling all these phenomena, we are compensating for these *unmodelled effects* by adding a second term to our differential equation. This accounts for the *stochastic* part of the model, i.e. all the remaining effects that we are unable to model in a deterministic manner, and we express this sum as a continuous differential equation.\n",
    "\n",
    "$$\n",
    "\\dot{x}=Fx + Gu\n",
    "$$\n",
    "\n",
    "where the matrix $G$ is a vector/matrix of white noise coefficients. These coefficients scale the unity white noise $u$ into a proper size that act as what is called the *driving noise* of our system model."
   ]
  },
  {
   "cell_type": "markdown",
   "metadata": {},
   "source": [
    "### Transition Matrix\n",
    "The next thing to do now is to solve this differential equation and derive a set of expressions to propagate the state vector $x$ into the future in a discrete manner. In other words, we need an equation to make predictions of the system state as the trolley rolls along the rails at discrete points in time. So, what we are looking for is an equations on this form:\n",
    "\n",
    "$$\n",
    "x_k = \\phi x_{k-1}\n",
    "$$\n",
    "\n",
    "where the $x_k$ is the predicted state vector at time $k$. The matrix $\\phi$ is called the *transition matrix*.\n",
    "\n",
    "Solving differential equations can be somewhat tricky, and in practice these solutions are done pure numerically. We will get back to standarized ways of solving these differantial equations later. However, for completeness and our intuition we will now derive a straight forward ordinary differential equation (ODE)  solution of the deterministic part of the dynamic model with the condition that the dynamic matrix $F$ is constant.\n",
    "\n",
    "```{note}\n",
    "The Python **sympy** package is a very powerful tool to do symbolic calculations in order to derive the generic structure of solutions to equations\n",
    "```"
   ]
  },
  {
   "cell_type": "code",
   "execution_count": 1,
   "metadata": {},
   "outputs": [
    {
     "data": {
      "text/latex": [
       "$\\displaystyle \\frac{d}{d t} x{\\left(t \\right)} = F x{\\left(t \\right)}$"
      ],
      "text/plain": [
       "Eq(Derivative(x(t), t), F*x(t))"
      ]
     },
     "metadata": {},
     "output_type": "display_data"
    }
   ],
   "source": [
    "from sympy import symbols, diff, Function, Eq, dsolve\n",
    "\n",
    "F, t = symbols('F t')\n",
    "\n",
    "x = Function('x')(t) \n",
    "\n",
    "dxdt = diff(x, t)\n",
    "expr = Eq(dxdt, F*x)\n",
    "display(expr)"
   ]
  },
  {
   "cell_type": "code",
   "execution_count": 2,
   "metadata": {},
   "outputs": [
    {
     "data": {
      "text/latex": [
       "$\\displaystyle x{\\left(t \\right)} = C_{1} e^{F t}$"
      ],
      "text/plain": [
       "Eq(x(t), C1*exp(F*t))"
      ]
     },
     "metadata": {},
     "output_type": "display_data"
    }
   ],
   "source": [
    "sol = dsolve(expr)\n",
    "display(sol)"
   ]
  },
  {
   "cell_type": "markdown",
   "metadata": {},
   "source": [
    "This lead to this fairly simple solution for the unknown transition matrix $\\phi$.\n",
    "\n",
    "$$\n",
    "\\phi=e^{F\\Delta t}\n",
    "$$\n",
    "\n",
    "If we further develop this equation into a Taylor series expansion, we get the following equation for the transition matrix $\\phi$.\n",
    "\n",
    "$$\n",
    "\\phi=I + F\\Delta t + \\frac{(F\\Delta t)^2}{2!} + \\dots\n",
    "$$\n",
    "\n",
    "Note that the transition matrix is also dependent on the time step $k$ and should technically be written as $\\phi_{k-1}$. However, in these very first simple examples it will remain a constant so we therefore omit the subscript for clarity.\n",
    "\n",
    "Now that we have everything we need, let's test the dynamic part of the dynamic model with our trolley on rails through a simple numerical example."
   ]
  },
  {
   "cell_type": "markdown",
   "metadata": {},
   "source": [
    "### Example 2.1\n",
    "Assume we want to estimate the position and velocity of the trolley, and that we give the trolley a slight push from the starting position $x=0$ for it to start rolling along the rails with a velocity of $\\dot{x}=1 m/s$. The inital values are given as:\n",
    "\n",
    "$$\n",
    "x_0=\n",
    "\\begin{bmatrix}\n",
    "  0\\\\\n",
    "  1\\\\\n",
    "\\end{bmatrix}\n",
    "$$\n",
    "  \n",
    "A reasonable deterministic system model $\\dot{x}=Fx$ could then look something like this:\n",
    "\n",
    "$$\n",
    "\\begin{bmatrix}\n",
    "  \\dot{x}\\\\\n",
    "  \\ddot{x}\\\\ \n",
    "\\end{bmatrix}\n",
    "=\n",
    "\\begin{bmatrix}\n",
    "  0 &1\\\\\n",
    "  0 &0\\\\\n",
    "\\end{bmatrix}\n",
    "\\begin{bmatrix}\n",
    "  x\\\\\n",
    "  \\dot{x}\\\\\n",
    "\\end{bmatrix}\n",
    "$$\n",
    "\n",
    "Given the dynamics matrix $F$, we can compute the transition matrix $\\phi$ as follows. Note that since $F^2 = 0$ we can safely cut the series after the linear part without loss of information.\n",
    "\n",
    "$$\n",
    "\\begin{align}\n",
    "  \\phi=&\n",
    "  \\begin{bmatrix}\n",
    "    1 &0\\\\\n",
    "    0 &1\\\\\n",
    "  \\end{bmatrix}\n",
    "  +\n",
    "  \\begin{bmatrix}\n",
    "    0 &1\\\\\n",
    "    0 &0\\\\\n",
    "  \\end{bmatrix} \\Delta t\\\\\n",
    "  =&\n",
    "  \\begin{bmatrix}\n",
    "    1 &\\Delta t\\\\\n",
    "    0 &1\\\\\n",
    "  \\end{bmatrix}\\\\\n",
    "\\end{align}\n",
    "$$\n",
    "\n",
    "Performing the time update step, we can compute the state vector as follows:\n",
    "\n",
    "$$\n",
    "x_1 = \\phi x_0\n",
    "$$\n",
    "\n",
    "So, what is the position and velocity of the trolley after $\\Delta t=10s$?\n",
    "\n",
    "$$\n",
    "\\begin{bmatrix}\n",
    "  x\\\\\n",
    "  \\dot{x}\\\\\n",
    "\\end{bmatrix}\n",
    "=\n",
    "\\begin{bmatrix}\n",
    "  1 &10\\\\\n",
    "  0 &1\\\\\n",
    "\\end{bmatrix}\n",
    "\\begin{bmatrix}\n",
    "  0\\\\\n",
    "  1\\\\\n",
    "\\end{bmatrix}\n",
    "$$"
   ]
  },
  {
   "cell_type": "code",
   "execution_count": 3,
   "metadata": {},
   "outputs": [
    {
     "name": "stdout",
     "output_type": "stream",
     "text": [
      "Position:  10.0 m\n",
      "Velocity:   1.0 m/s\n"
     ]
    }
   ],
   "source": [
    "from numpy import array, eye\n",
    "\n",
    "# System values\n",
    "dt = 10   # interval [seconds]\n",
    "\n",
    "# Inital state vector\n",
    "x0 = array([[0],    # position [meter]\n",
    "            [1]])   # velocity [meter/second]\n",
    "\n",
    "# Dynamic matrix\n",
    "F = array([[0, 1],\n",
    "           [0, 0]])\n",
    "\n",
    "# Transition matrix\n",
    "phi = eye(2) + F*dt\n",
    "\n",
    "# Time update\n",
    "x1 = phi@x0\n",
    "\n",
    "print(f\"Position: {x1[0, 0]:5.1f} m\")\n",
    "print(f\"Velocity: {x1[1, 0]:5.1f} m/s\")"
   ]
  },
  {
   "cell_type": "markdown",
   "metadata": {},
   "source": [
    "According to the deterministic part of the dynamic model, then after 10 seconds with a constant velocity of 1 m/s, the trolley has moved 10 meter down the rails. This seems like a perfectly reasonable result under these ideal conditions, i.e. no friction, vibration or air resistance."
   ]
  },
  {
   "cell_type": "markdown",
   "metadata": {},
   "source": [
    "## Laplace Transform\n",
    "Since the dynamic model basically is just a set of ODEs, the generic solution for the transition matrix can always be solved in the complex s-domain through the *Laplace transform*. The generic solution for the transition matrix is stated below.\n",
    "\n",
    "$$\n",
    "\\phi = \\mathscr{L}^{-1}\\{(sI-F)^{-1}\\}_{t=\\Delta t}\n",
    "$$\n",
    "\n",
    "Based on our the dynamic matrix $F$ in the previous example the solution becomes as follows.\n",
    "\n",
    "$$\n",
    "\\begin{align}\n",
    "   \\phi =& \\mathscr{L}^{-1}\\{\n",
    "   \\begin{bmatrix}\n",
    "      s &0\\\\\n",
    "      0 &s\\\\\n",
    "   \\end{bmatrix}\n",
    "   -\n",
    "   \\begin{bmatrix}\n",
    "     0 &1\\\\\n",
    "     0 &0\\\\\n",
    "   \\end{bmatrix}^{-1} \\}_{t=\\Delta t}\\\\\n",
    "   =& \\mathscr{L}^{-1}\\{\n",
    "   \\begin{bmatrix}\n",
    "      s &-1\\\\\n",
    "      0 &s\\\\\n",
    "   \\end{bmatrix}^{-1} \\}_{t=\\Delta t}\\\\\n",
    "   =& \\mathscr{L}^{-1}\\{\n",
    "   \\begin{bmatrix}\n",
    "      \\frac{1}{s} &\\frac{1}{s^2}\\\\\n",
    "      0 &\\frac{1}{s}\\\\\n",
    "   \\end{bmatrix}\\}_{t=\\Delta t}\\\\\n",
    "   \\vdots\\\\\n",
    "   \\phi =&\n",
    "   \\begin{bmatrix}\n",
    "      1 &\\Delta t\\\\\n",
    "      0 &1\\\\\n",
    "   \\end{bmatrix}\\\\\n",
    "\\end{align}\n",
    "$$\n",
    "\n",
    "As expected this is exactly the same result as with the previous Taylor series expansion. Note the Taylor series expansion is in practice only useful with very simple dynamic systems in practice as it becomes untracktable when many parts of the series need to ba added in order for a proper approximation of the underlying dynamics.\n",
    "\n",
    "Before we continue, let's first use sympy to generate a short list of some common Laplace transform pairs slightly beyond what shows up in this simple example."
   ]
  },
  {
   "cell_type": "code",
   "execution_count": 4,
   "metadata": {},
   "outputs": [
    {
     "data": {
      "image/png": "[encoded data removed]",
      "text/latex": [
       "$\\displaystyle \\left[ 1, \\  t, \\  e^{- a t}, \\  t e^{- a t}, \\  t^{2} e^{- a t}, \\  \\sin{\\left(\\omega t \\right)}, \\  \\cos{\\left(\\omega t \\right)}, \\  1 - e^{- a t}\\right]$"
      ],
      "text/plain": [
       "⎡       -a⋅t     -a⋅t   2  -a⋅t                           -a⋅t⎤\n",
       "⎣1, t, ℯ    , t⋅ℯ    , t ⋅ℯ    , sin(ω⋅t), cos(ω⋅t), 1 - ℯ    ⎦"
      ]
     },
     "metadata": {},
     "output_type": "display_data"
    }
   ],
   "source": [
    "from sympy import symbols, init_printing, laplace_transform, exp, sin, cos\n",
    "\n",
    "init_printing()\n",
    "\n",
    "a, s, omega = symbols('a s omega', real=True)\n",
    "\n",
    "ft = [1, t, exp(-a*t), t*exp(-a*t), t**2*exp(-a*t), sin(omega*t), cos(omega*t), 1 - exp(-a*t)]\n",
    "display(ft)"
   ]
  },
  {
   "cell_type": "code",
   "execution_count": 5,
   "metadata": {},
   "outputs": [
    {
     "data": {
      "image/png": "[encoded data removed]",
      "text/latex": [
       "$\\displaystyle \\left[ \\frac{1}{s}, \\  \\frac{1}{s^{2}}, \\  \\frac{1}{a + s}, \\  \\frac{1}{\\left(a + s\\right)^{2}}, \\  \\frac{2}{\\left(a + s\\right)^{3}}, \\  \\frac{\\omega}{\\omega^{2} + s^{2}}, \\  \\frac{s}{\\omega^{2} + s^{2}}, \\  \\frac{a}{s \\left(a + s\\right)}\\right]$"
      ],
      "text/plain": [
       "⎡1  1     1       1         2         ω        s         a    ⎤\n",
       "⎢─, ──, ─────, ────────, ────────, ───────, ───────, ─────────⎥\n",
       "⎢s   2  a + s         2         3   2    2   2    2  s⋅(a + s)⎥\n",
       "⎣   s          (a + s)   (a + s)   ω  + s   ω  + s            ⎦"
      ]
     },
     "metadata": {},
     "output_type": "display_data"
    }
   ],
   "source": [
    "Fs = [laplace_transform(f, t, s, noconds=True) for f in ft]\n",
    "display(Fs)"
   ]
  },
  {
   "cell_type": "markdown",
   "metadata": {},
   "source": [
    "```{note}\n",
    "This example demonstrates the power of Python when it comes to efficient code for automated processing of elements in a list.\n",
    "```"
   ]
  },
  {
   "cell_type": "markdown",
   "metadata": {},
   "source": [
    "## Error Analysis\n",
    "In addition to the estimate of the state vector, we also need to derive the corresponding covariance matrix to account for the stochastic part of the dynamics model. Propagating the deterministic part of the covariance matrix is straight forward from the law of error propagation. For completeness we write both the equations for the deterministic part here as follows.\n",
    "\n",
    "$$\n",
    "\\begin{align}\n",
    "  x_k =& \\phi x_{k-1}\\\\\n",
    "  P_k =& \\phi P_{k-1} \\phi^T\\\\\n",
    "\\end{align}\n",
    "$$\n",
    "\n",
    "Note that these two equations only propagate the determinstic part of the dynamic model, eventhough the covariance matrix $P$ is involved - we have not yet introduced the stochastic part of the model.\n",
    "\n",
    "In order to do that we have to introduce some uncertainty into our discrete equation to account for all the unmodelled effects. Thus, we expand the original equation as follows with the noise vector $w$.\n",
    "\n",
    "$$\n",
    "x_k = \\phi x_{k-1} + w_{k-1}\n",
    "$$\n",
    "\n",
    "The noise vector $w$ is called *process noise* and it is basically the accumulated noise between each point in time. The covariance matrix $Q$ of this noise vector is called the *process noise covariance* and it can be computed as follows.\n",
    "\n",
    "$$\n",
    "\\begin{align}\n",
    "  Q_k =& E[w_k w_k^T]\\\\\n",
    "    =& E[\\int_{t_k}^{t_{k+1}} \\phi(t_{k+1}, \\epsilon) G(\\epsilon) u(\\epsilon) d\\epsilon \\cdot \\int_{t_k}^{t_{k+1}} (\\phi(t_{k+1}, \\eta) G(\\eta) u(\\eta))^T d\\eta]\\\\\n",
    "    =& E[\\int_{t_k}^{t_{k+1}} \\int_{t_k}^{t_{k+1}} \\phi(t_{k+1}, \\epsilon) G(\\epsilon) u(\\epsilon) u(\\eta)^T G^T(\\eta) \\phi^T(t_{k+1}\\eta) d\\epsilon d\\eta]\\\\\n",
    "    =& \\int_{t_k}^{t_{k+1}} \\int_{t_k}^{t_{k+1}} \\phi(t_{k+1}, \\epsilon) G(\\epsilon) \\: E[u(\\eta) u(\\epsilon)^T] \\: G^T(\\eta) \\phi^T(t_{k+1}\\eta) d\\epsilon d\\eta\\\\\n",
    "    =& \\int_{t_k}^{t_{k+1}} \\int_{t_k}^{t_{k+1}} \\phi(t_{k+1}, \\epsilon) G(\\epsilon) \\: \\delta(\\eta - \\epsilon) \\: G^T(\\eta) \\phi^T(t_{k+1}\\eta) d\\epsilon d\\eta\\\\\n",
    "    \\vdots\\\\\n",
    "  Q_k =& \\int_{t_k}^{t_{k+1}} \\phi(t_{k+1}, \\epsilon) G(\\epsilon) G^T(\\epsilon) \\phi^T(t_{k+1}, \\epsilon) d\\epsilon\\\\\n",
    "\\end{align}\n",
    "$$\n",
    "\n",
    "So, now we have derived the complete discrete dynamic model as two discrete equations. This set of equations are called *time update* since it propagates the state vector and the corresponding covariance matrix into the future.\n",
    "\n",
    "$$\n",
    "\\begin{align}\n",
    "  x_{k} =& \\phi x_{k-1}\\\\\n",
    "  P_{k} =& \\phi P_{k-1} \\phi^T + Q_{k-1}\\\\\n",
    "\\end{align}\n",
    "$$"
   ]
  },
  {
   "cell_type": "markdown",
   "metadata": {},
   "source": [
    "(Sysdyn:example22)=\n",
    "### Example 2.2\n",
    "Now let's test the complete dynamic model with our trolley on rails with another simple numerical example.\n",
    "\n",
    "Assume that we want to estimate the position and velocity of the trolley, and that we give the trolley a slight push for it to start rolling along the rails. This time we also have to specify the uncertainty in the initial state vector throught he initial covariance matrix. Thus the inital values are given as:\n",
    "\n",
    "$$\n",
    "x_0=\n",
    "\\begin{bmatrix}\n",
    "  0\\\\\n",
    "  1\\\\\n",
    "\\end{bmatrix} \\quad\n",
    "P_0=\n",
    "\\begin{bmatrix}\n",
    "  1 &0\\\\\n",
    "  0 &0.25\\\\\n",
    "\\end{bmatrix}\n",
    "$$\n",
    "\n",
    "A reasonable system model could then look something like this:\n",
    "\n",
    "$$\n",
    "\\begin{bmatrix}\n",
    "  \\dot{x}\\\\\n",
    "  \\ddot{x}\\\\ \n",
    "\\end{bmatrix}\n",
    "=\n",
    "\\begin{bmatrix}\n",
    "  0 &1\\\\\n",
    "  0 &0\\\\\n",
    "\\end{bmatrix}\n",
    "\\begin{bmatrix}\n",
    "  x\\\\\n",
    "  \\dot{x}\\\\\n",
    "\\end{bmatrix}\n",
    "+\n",
    "\\begin{bmatrix}\n",
    "  0\\\\\n",
    "  \\sqrt{q_v}\\\\\n",
    "\\end{bmatrix}\n",
    "u\n",
    "$$\n",
    "\n",
    "Note that the dynamic matrix $F$ is the same, thus there is no change to the transition matrix $\\phi$. However, now we have also introduced process noise to the velocity through the term $q_v$. This value can be interpreted as \"variance per time unit\" during each time interval and is set to 0.01 (m/s)^2/s.\n",
    "\n",
    "Now we have everything we need to compute the noise covariance matrix.\n",
    "\n",
    "$$\n",
    "\\begin{align}\n",
    "  Q =& \\int_{t_k}^{t_{k+1}} \\phi(t_{k+1}, \\epsilon) G(\\epsilon) G^T(\\epsilon) \\phi^T(t_{k+1}, \\epsilon) d \\epsilon \\\\\n",
    "    =& \\int_{t_k}^{t_{k+1}}\n",
    "    \\begin{bmatrix}\n",
    "      1 &\\epsilon\\\\\n",
    "      0 &1\\\\\n",
    "    \\end{bmatrix}\n",
    "    \\begin{bmatrix}\n",
    "      0\\\\\n",
    "      \\sqrt{q_v}\\\\\n",
    "    \\end{bmatrix}\n",
    "    \\begin{bmatrix}\n",
    "      0 &\\sqrt{q_v}\\\\\n",
    "    \\end{bmatrix}\n",
    "    \\begin{bmatrix}\n",
    "      1 &0\\\\\n",
    "      \\epsilon &1\\\\\n",
    "    \\end{bmatrix} d \\epsilon\\\\\n",
    "    =& \\int_{t_k}^{t_{k+1}}\n",
    "    \\begin{bmatrix}\n",
    "      \\frac{1}{2} q_v \\epsilon^2 &q_v \\epsilon\\\\\n",
    "      q_v \\epsilon &q_v\\\\\n",
    "    \\end{bmatrix} d \\epsilon\\\\\n",
    "    \\vdots\\\\\n",
    "  Q =& \n",
    "    \\begin{bmatrix}\n",
    "      \\frac{1}{3} q_v \\Delta t^3 &\\frac{1}{2} q_v \\Delta t^2\\\\\n",
    "      \\frac{1}{2} q_v \\Delta t^2 &q_v \\Delta t\\\\\n",
    "    \\end{bmatrix}\n",
    "\\end{align}\n",
    "$$\n",
    "\n",
    "To verify, we can also directly compute the symbolic solution in Python which may look something like this."
   ]
  },
  {
   "cell_type": "code",
   "execution_count": 6,
   "metadata": {},
   "outputs": [
    {
     "data": {
      "image/png": "[encoded data removed]",
      "text/latex": [
       "$\\displaystyle \\left[\\begin{matrix}1 & \\Delta t\\\\0 & 1\\end{matrix}\\right]$"
      ],
      "text/plain": [
       "⎡1  \\Delta t⎤\n",
       "⎢           ⎥\n",
       "⎣0     1    ⎦"
      ]
     },
     "metadata": {},
     "output_type": "display_data"
    },
    {
     "data": {
      "image/png": "[encoded data removed]",
      "text/latex": [
       "$\\displaystyle \\left[\\begin{matrix}\\frac{\\Delta t^{3} q_{v}}{3} & \\frac{\\Delta t^{2} q_{v}}{2}\\\\\\frac{\\Delta t^{2} q_{v}}{2} & \\Delta t q_{v}\\end{matrix}\\right]$"
      ],
      "text/plain": [
       "⎡        3             2   ⎤\n",
       "⎢\\Delta t ⋅qᵥ  \\Delta t ⋅qᵥ⎥\n",
       "⎢────────────  ────────────⎥\n",
       "⎢     3             2      ⎥\n",
       "⎢                          ⎥\n",
       "⎢        2                 ⎥\n",
       "⎢\\Delta t ⋅qᵥ              ⎥\n",
       "⎢────────────  \\Delta t⋅qᵥ ⎥\n",
       "⎣     2                    ⎦"
      ]
     },
     "metadata": {},
     "output_type": "display_data"
    }
   ],
   "source": [
    "# Compute transistion matrix and process noise matrix\n",
    "\n",
    "# Import\n",
    "from sympy import Symbol, Matrix, sqrt, eye, integrate\n",
    "\n",
    "# Define symbols\n",
    "dt = Symbol('\\Delta t')\n",
    "qv = Symbol('q_v')\n",
    "\n",
    "# Dynamic matrix\n",
    "F = Matrix([[0, 1],\n",
    "            [0, 0]])\n",
    "\n",
    "# Transition matrix\n",
    "phi = eye(2) + F*dt\n",
    "display(phi)\n",
    "\n",
    "# White noise coefficients\n",
    "G = Matrix([[0],\n",
    "            [sqrt(qv)]])\n",
    "\n",
    "# Process noise matrix\n",
    "Q = integrate(phi@G@G.T@phi.T,  (dt, 0, dt))\n",
    "display(Q)"
   ]
  },
  {
   "cell_type": "markdown",
   "metadata": {},
   "source": [
    "Then performing the time update step, we compute the state vector and the corresponding covariance matrix as follows:\n",
    "\n",
    "$$\n",
    "\\begin{align}\n",
    "  x_1 =& \\phi x_0\\\\\n",
    "  P_1 =& \\phi P_0 \\phi^T + Q\\\\\n",
    "\\end{align}\n",
    "$$\n",
    "\n",
    "So, what is the position, velocity and the corresponding covariance matrix of the trolley after 10 seconds?"
   ]
  },
  {
   "cell_type": "code",
   "execution_count": 7,
   "metadata": {},
   "outputs": [
    {
     "name": "stdout",
     "output_type": "stream",
     "text": [
      "Position:  10.0 m,   std:  5.42 m\n",
      "Velocity:   1.0 m/s, std:  0.59 m/s\n"
     ]
    }
   ],
   "source": [
    "from numpy import array, eye, sqrt\n",
    "\n",
    "# System values\n",
    "dt = 10        # interval [seconds]\n",
    "qv = 0.1**2    # process noise [(meter/second)^2/second]\n",
    "\n",
    "# Inital state vector\n",
    "x0 = array([[0],    # position [meter]\n",
    "            [1]])   # velocity [meter/second]\n",
    "\n",
    "# Initial state covariance matrix\n",
    "P0 = array([[1, 0],           # [meter^2]\n",
    "            [0, 0.25]])       # [(meter/second)^2]\n",
    "\n",
    "# Dynamic matrix\n",
    "F = array([[0, 1],\n",
    "           [0, 0]])\n",
    "\n",
    "# Transition matrix\n",
    "phi = eye(2) + F*dt\n",
    "\n",
    "# Process noise\n",
    "Q = array([[1/3*qv*dt**3, 1/2*qv*dt**2],\n",
    "           [1/2*qv*dt**2, qv*dt]])\n",
    "\n",
    "# Time update\n",
    "x1 = phi@x0\n",
    "P1 = phi@P0@phi.T + Q\n",
    "\n",
    "print(f\"Position: {x1[0, 0]:5.1f} m,   std: {sqrt(P1[0, 0]):5.2f} m\")\n",
    "print(f\"Velocity: {x1[1, 0]:5.1f} m/s, std: {sqrt(P1[1, 1]):5.2f} m/s\")"
   ]
  },
  {
   "cell_type": "markdown",
   "metadata": {},
   "source": [
    "## Adding More Complexity\n",
    "But what happens if our model is slightly more complex than our trolley on rails? Let's try with adding some more components to increase the complexity of our model.\n",
    "\n",
    "Assume our trolley on rails is attached to a wall with a spring and a damper.\n",
    "\n",
    "```{figure} fig/trolley_complex.png\n",
    ":name: trolley_complex\n",
    "\n",
    "Complex trolley on rails\n",
    "```\n",
    "\n",
    "This is clearly a more complex dynamic system that requires a more detalied description. This description goes into the the dynamics matrix $F$. Let's start with determining the forces that act upon the trolley. There are only two forces involved: one comes from the spring where the force is proportional to the position, and one comes from the damper where the force is proportional to the velocity.\n",
    "\n",
    "From Newtons second law we have that:\n",
    "\n",
    "$$\n",
    "\\Sigma F = ma\n",
    "$$\n",
    "\n",
    "So, if we add together all the forces we obtain the following differential equation:\n",
    "\n",
    "$$\n",
    "\\begin{align}\n",
    "  m\\ddot{x} + c\\dot{x} + kx =& 0\\\\\n",
    "  \\ddot{x} =& -\\frac{c}{m}\\dot{x} - \\frac{k}{m}x\\\\\n",
    "\\end{align}\n",
    "$$\n",
    "\n",
    "In matrix form the system model will now look something like this:\n",
    "\n",
    "$$\n",
    "\\begin{bmatrix}\n",
    "  \\dot{x}\\\\\n",
    "  \\ddot{x}\\\\\n",
    "\\end{bmatrix}\n",
    "=\n",
    "\\begin{bmatrix}\n",
    "  0 &1\\\\\n",
    "  -k/m &-c/m\\\\\n",
    "\\end{bmatrix}\n",
    "\\begin{bmatrix}\n",
    "  x\\\\\n",
    "  \\dot{x}\\\\\n",
    "\\end{bmatrix}\n",
    "$$\n",
    "\n",
    "In order to have an idea of the generic structure of the solution of this ODE, we can use sympy's *dsolve* function. Than we can write as follows."
   ]
  },
  {
   "cell_type": "code",
   "execution_count": 8,
   "metadata": {},
   "outputs": [
    {
     "data": {
      "image/png": "[encoded data removed]",
      "text/latex": [
       "$\\displaystyle x{\\left(t \\right)} + \\frac{d}{d t} x{\\left(t \\right)} + \\frac{d^{2}}{d t^{2}} x{\\left(t \\right)} = 0$"
      ],
      "text/plain": [
       "                    2          \n",
       "       d           d           \n",
       "x(t) + ──(x(t)) + ───(x(t)) = 0\n",
       "       dt           2          \n",
       "                  dt           "
      ]
     },
     "execution_count": 8,
     "metadata": {},
     "output_type": "execute_result"
    }
   ],
   "source": [
    "from sympy import symbols, diff, Eq, dsolve\n",
    "\n",
    "x = symbols('x', cls=Function)\n",
    "\n",
    "dxdt = x(t).diff(t, 1)\n",
    "dxdt2 = x(t).diff(t, 2)\n",
    "\n",
    "expr = Eq(dxdt2 + dxdt + x(t), 0)\n",
    "expr"
   ]
  },
  {
   "cell_type": "code",
   "execution_count": 9,
   "metadata": {},
   "outputs": [
    {
     "data": {
      "image/png": "[encoded data removed]",
      "text/latex": [
       "$\\displaystyle x{\\left(t \\right)} = \\left(C_{1} \\sin{\\left(\\frac{\\sqrt{3} t}{2} \\right)} + C_{2} \\cos{\\left(\\frac{\\sqrt{3} t}{2} \\right)}\\right) e^{- \\frac{t}{2}}$"
      ],
      "text/plain": [
       "                                      -t \n",
       "                                      ───\n",
       "       ⎛      ⎛√3⋅t⎞         ⎛√3⋅t⎞⎞   2 \n",
       "x(t) = ⎜C₁⋅sin⎜────⎟ + C₂⋅cos⎜────⎟⎟⋅ℯ   \n",
       "       ⎝      ⎝ 2  ⎠         ⎝ 2  ⎠⎠     "
      ]
     },
     "execution_count": 9,
     "metadata": {},
     "output_type": "execute_result"
    }
   ],
   "source": [
    "sol = dsolve(expr)\n",
    "sol"
   ]
  },
  {
   "cell_type": "markdown",
   "metadata": {},
   "source": [
    "As seen above the generic solution will be a damped sine/cosine wave corresponding to the trolley bouncing back and fourth until the damper has slowed down the movement completely. So, now lets see what what the corresponding Kalman filter solution will look like as we simulate the situation for a period of 100 seconds."
   ]
  },
  {
   "cell_type": "markdown",
   "metadata": {},
   "source": [
    "### Example 2.3\n",
    "Note that eventhough the dynamic matrix is still a constant, it is not convenient to derive the transition matrix following our previous approach as this would require to take a larger part of the series expansion into account. Since we have not yet introduced more efficient methods for numerical evaluation of the transition matrix, we will for simplicity just make a coarse approximation using only the linear part of the series expansion.\n",
    "\n",
    "$$\n",
    "\\phi \\approx I + F\\Delta t\n",
    "$$\n",
    "\n",
    "Following this approach the approximate transition matrix will look like this.\n",
    "\n",
    "$$\n",
    "\\phi \\approx\n",
    "\\begin{bmatrix}\n",
    "  1 &0\\\\\n",
    "  0 &1\\\\\n",
    "\\end{bmatrix}\n",
    "+\n",
    "\\begin{bmatrix}\n",
    "  0 &1\\\\\n",
    "  -k/m &-c/m\\\\\n",
    "\\end{bmatrix} \\Delta t\n",
    "$$\n",
    "\n",
    "So, now let's also test this more complex system dynamics with a simple numerical example."
   ]
  },
  {
   "cell_type": "code",
   "execution_count": 11,
   "metadata": {},
   "outputs": [
    {
     "data": {
      "image/png": "[encoded data removed]",
      "text/plain": [
       "<Figure size 432x288 with 1 Axes>"
      ]
     },
     "metadata": {
      "needs_background": "light"
     },
     "output_type": "display_data"
    }
   ],
   "source": [
    "from numpy import array, eye, arange\n",
    "import matplotlib.pyplot as plt\n",
    "\n",
    "# System values\n",
    "dt = 0.1         # interval [seconds]\n",
    "samples = 1000   # number of samples\n",
    "m = 0.5          # mass [kg]\n",
    "k = 0.1          # spring constant\n",
    "c = 0.05         # damper constant\n",
    "\n",
    "# Inital state vector\n",
    "x = array([[0],    # position [meter]\n",
    "           [1]])   # velocity [meter/second]\n",
    "\n",
    "# Dynamic matrix\n",
    "F = array([[0, 1],\n",
    "           [-k/m, -c/m]])\n",
    "\n",
    "# Transition matrix (approximation)\n",
    "phi = eye(2) + F*dt\n",
    "\n",
    "# Initialize plot vectors\n",
    "x_all = []\n",
    "\n",
    "# Main loop\n",
    "for k in range(0, samples + 1):\n",
    "    \n",
    "    # Time update\n",
    "    x = phi@x\n",
    "    \n",
    "    # Accumulate plot vectors\n",
    "    x_all.append(x)\n",
    "\n",
    "# Extract plot vectors\n",
    "pos_est = [x[0] for x in x_all]\n",
    "\n",
    "# Time\n",
    "time = arange(0, samples + 1)*dt\n",
    "\n",
    "# Plot results\n",
    "plt.title(\"System Dynamics\")\n",
    "plt.plot(time, pos_est, 'g', label='Estimated position')\n",
    "plt.xlabel(\"Time [second]\")\n",
    "plt.ylabel(\"Position [meter]\")\n",
    "plt.legend(loc='upper right')\n",
    "plt.grid();plt.show()"
   ]
  },
  {
   "cell_type": "markdown",
   "metadata": {},
   "source": [
    "As expected the behaviour of the trolley corresponds with what is known as a *damped harmonic oscillation*. The trolley is given a small initial velocity and it keeps bouncing back and forth until the velocity has converged to zero. Eventhough we can see the general shape of the oscillation here, beware that the transition matrix is just an approximation and for a a more precise solution we will need more efficient methods to compute a numeric solution. We will get back to more efficient numerical solutions later."
   ]
  },
  {
   "cell_type": "markdown",
   "metadata": {},
   "source": [
    "## Summary\n",
    "In this chapter we have introduced the basic ideas of how to model the system dynamics as a set of ordinary differential equations. The solution to these equations provides the deterministic part of the platform dynamics as a function of time. This can intuitively be looked upon as the *laws of nature* in matrix form. Thus an increased complexity of the dynamic model leads to a more complex dynamic matrix $F$ that again are responsible for all the connections between the elements in the state vector\n",
    "\n",
    "However, even if very sophisticated, these models cannot capture all effect that we experience in the real world so in practice we will always need to add some process noise to our equations to account for these unmodelled effects. The amount of noise will be highly dependent on the application at hand, thus tuning it properly will in practice require some experience.\n",
    "\n",
    "So, now we have derived the main equations for the system dynamics which is called *time update* in the Kalman filter vocabulary. The two equations read as follows.\n",
    "\n",
    "$$\n",
    "\\begin{align}\n",
    "  x_k =& \\phi x_{k-1}\\\\\n",
    "  P_k =& \\phi P_{k-1} \\phi^T + Q\\\\\n",
    "\\end{align}\n",
    "$$\n",
    "\n",
    "However if we look at the propagation of the covariance matrix $P$ ahead in time, it seems just to grow without limits as the process noise matrix $Q$ is added in every time update step. Or to state it differently - as times go by the predictions from our dynamic model becomes less and less precise. Unless we have made a perfect model of the real world, every update steps will introduce more and more uncertainty into our estimate as time go by. But how do we deal with this?\n",
    "\n",
    "I thinkt it's about time to have a look at how to introduce some measurements..."
   ]
  }
 ],
 "metadata": {
  "kernelspec": {
   "display_name": "Python 3 (ipykernel)",
   "language": "python",
   "name": "python3"
  },
  "language_info": {
   "codemirror_mode": {
    "name": "ipython",
    "version": 3
   },
   "file_extension": ".py",
   "mimetype": "text/x-python",
   "name": "python",
   "nbconvert_exporter": "python",
   "pygments_lexer": "ipython3",
   "version": "3.9.7"
  }
 },
 "nbformat": 4,
 "nbformat_minor": 4
}
