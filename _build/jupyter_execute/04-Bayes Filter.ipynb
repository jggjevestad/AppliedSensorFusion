{
 "cells": [
  {
   "cell_type": "markdown",
   "metadata": {},
   "source": [
    "(Bayes:bayes)=\n",
    "# Bayes Filter\n",
    "The idea of taking previous knowledge into account is nothing new by any means - it arises from the established field of *Bayesian Statistics*. Since the Kalman Filter essentially is only a realization of the Bayes Filter, it makes sense to start building our intuition based on the generic framework of the Bayes Filter. The Bayes Filter is an recursive estimation technique that estimates the current state of a system given measurements and control commands and it is an online estimation algorithm meaning that it only considers the past state togehter with the most recent measurements and control commands.\n",
    "\n",
    "The Bayes Filter is just a framework, and is not used as an actual realization in practice. For that we have various realizations like the, e.g. the Kalman Filter, EKF, UKF and the Particle Filter that are all filters based on this generic framework.\n",
    "\n",
    "However, all these realizations will differ in the way they make assumptions about the problem, e.g. the Kalman Filter assumes everything is Gaussian and linear, while the particle Filter can represent arbitrary distrubutions and is also non-linear. However, this flexibility comes at higher computational cost.\n",
    "\n",
    "![navigation](fig/probability.jpg)\n",
    "\n",
    "```{note}\n",
    "Bayesian Rule - \"What is your belief after seeing the evidence?\"\n",
    "```\n",
    "\n",
    "$$\n",
    "bel(x_t)=\\eta p(z_t|x_t) \\int p(x_t|u_t, x_{t-1}) bel(x_{t-1})dx_{t-1}\n",
    "$$\n",
    "\n",
    "The Bayes Filter consists of two models: a *measurement model* and a *motion model*. The measurement model $\\eta p(z_t|x_t)$ describes \"what's the likelihood of obtaining the measurement $z$ given the current state $x_t$?\", while the motion model $p(x_t|u_t, x_{t-1})$ describes \"What's the likelihood that the state $x_t$ advances to $x_{t-1}$ given the control commands $u$?\". The $\\eta$ is the normalization factor.\n",
    "\n",
    "Let's start with the simple hallway example from the field of robotics {cite}`thrun2005probabilistic`.\n",
    "\n",
    "Assume that the robots world consists of a one dimensional hallway, whose only features are three lights hanging from the ceiling. The total length of the hallway consists of 10 discrete locations where the robot can be located. The robot can only move along the hallway in discrete steps, thus at any point in time it will always be located in one of the 10 possible locations. For simplicity, let's say that the robot can move forward indefinitely. Thus, is just wraps around to location 0 if it drives past location 9.\n",
    "\n",
    "The only sensor mounted on the robot is a simple light sensor that point towards the ceiling and it will detect if there is a light above or not. The lights are placed above location 0, 3 and 7 respectively.\n",
    "\n",
    "It will look something like this.\n",
    "\n",
    "```{figure} fig/robot_bayes.png\n",
    ":name: robot_bayes\n",
    "\n",
    "Robot in the hallway\n",
    "```\n",
    "\n",
    "It is obvious from the figure that there will be more than one location that will correspond to the measurement from the light sensor, thus the location of the robot is ambigous. Further, the sensor is not perfect so there may also be a small probability of false measurements. That is the sensor may give a reading that there is a light above, when in fact there is no light there. In addition there will may also be a small probability that the odometry makes the robot drive too far or too short as it moves between the locations.\n",
    "\n",
    "How do we approach this problem?\n",
    "\n",
    "This is were Bayes Filter comes into play. Let's start by defining the initial probability that the robot is located in one of the 10 possible locations. In robotics this probability is called a *belief*. When we start the filter, it is equally likely that the robot is in any of the possible locations. And since the sum of all the probabilities must sum up to unity, the inital belief that the robot is located in one of the locations is 0.1."
   ]
  },
  {
   "cell_type": "code",
   "execution_count": 1,
   "metadata": {},
   "outputs": [
    {
     "name": "stdout",
     "output_type": "stream",
     "text": [
      "Sum of probabilities: 1.0\n"
     ]
    }
   ],
   "source": [
    "from numpy import array\n",
    "\n",
    "# Initial belief\n",
    "bel = array([0.1, 0.1, 0.1, 0.1, 0.1, 0.1, 0.1, 0.1, 0.1, 0.1])\n",
    "print(f\"Sum of probabilities: {sum(bel):.1f}\")"
   ]
  },
  {
   "cell_type": "markdown",
   "metadata": {},
   "source": [
    "The robots knowledge of its surroundings is called a *map*. In our example the robots map will be the location of the lights in the ceiling. As the robots drives through the hallway, the sensor will detect the lights and the belief is updated accordingly.\n",
    "\n",
    "So, given that the sensor has detected a light the robot is equally likely to be in location 0, 3 or 7. Or put in other words, it is a probability of 33% that the robot is in location 0, 3, or 7."
   ]
  },
  {
   "cell_type": "code",
   "execution_count": 2,
   "metadata": {},
   "outputs": [
    {
     "name": "stdout",
     "output_type": "stream",
     "text": [
      "Sum of probabilities: 1.0\n"
     ]
    }
   ],
   "source": [
    "# World map\n",
    "world_map = array([1, 0, 0, 1, 0, 0, 0, 1, 0, 0])\n",
    "\n",
    "# Updated belief\n",
    "bel = array([0.333, 0, 0, 0.333, 0, 0, 0, 0.333, 0, 0])\n",
    "print(f\"Sum of probabilities: {sum(bel):.1f}\")"
   ]
  },
  {
   "cell_type": "markdown",
   "metadata": {},
   "source": [
    "This belief would be the output of the Bayes Filter if the sensor readings and control commands are both assumed to be perfect."
   ]
  },
  {
   "cell_type": "markdown",
   "metadata": {},
   "source": [
    "(Bayes:correct)=\n",
    "## Correction\n",
    "Let us now use the generic correction step from the Bayes Filter algorithm to compute the belief. It may look something like this."
   ]
  },
  {
   "cell_type": "code",
   "execution_count": 3,
   "metadata": {},
   "outputs": [
    {
     "name": "stdout",
     "output_type": "stream",
     "text": [
      "Initial:   0.100 0.100 0.100 0.100 0.100 0.100 0.100 0.100 0.100 0.100\n",
      "Corrected: 0.333 0.000 0.000 0.333 0.000 0.000 0.000 0.333 0.000 0.000\n"
     ]
    }
   ],
   "source": [
    "from numpy import ones\n",
    "\n",
    "# Initial belief\n",
    "bel = 1/10*ones(10)\n",
    "\n",
    "# Sensor reading\n",
    "z = array([1, 0, 0, 1, 0, 0, 0, 1, 0, 0])\n",
    "\n",
    "# Normalize\n",
    "def normalize(x):\n",
    "    return x/sum(x)\n",
    "\n",
    "# Correction step\n",
    "def correct_step(z, bel):\n",
    "    return normalize(z*bel)\n",
    "\n",
    "# Main\n",
    "print(\"Initial:   \" + ' '.join(f'{bel:.3f}' for bel in bel))\n",
    "\n",
    "belc = correct_step(z[0] == world_map, bel)\n",
    "print(\"Corrected: \" + ' '.join(f'{belc:.3f}' for belc in belc))"
   ]
  },
  {
   "cell_type": "markdown",
   "metadata": {},
   "source": [
    "(Bayes:predict)=\n",
    "## Prediction\n",
    "The prediction step consists of moving the robot one location to the right, thus shifting the current belief with the same amount. If we implement the prediction step and run the filter, we obtain the following beliefs."
   ]
  },
  {
   "cell_type": "code",
   "execution_count": 4,
   "metadata": {},
   "outputs": [
    {
     "name": "stdout",
     "output_type": "stream",
     "text": [
      "Initial: 0.100 0.100 0.100 0.100 0.100 0.100 0.100 0.100 0.100 0.100\n",
      "Loc:  0\n",
      "Predict: 0.100 0.100 0.100 0.100 0.100 0.100 0.100 0.100 0.100 0.100\n",
      "Correct: 0.333 0.000 0.000 0.333 0.000 0.000 0.000 0.333 0.000 0.000\n",
      "Loc:  1\n",
      "Predict: 0.000 0.333 0.000 0.000 0.333 0.000 0.000 0.000 0.333 0.000\n",
      "Correct: 0.000 0.333 0.000 0.000 0.333 0.000 0.000 0.000 0.333 0.000\n",
      "Loc:  2\n",
      "Predict: 0.000 0.000 0.333 0.000 0.000 0.333 0.000 0.000 0.000 0.333\n",
      "Correct: 0.000 0.000 0.333 0.000 0.000 0.333 0.000 0.000 0.000 0.333\n",
      "Loc:  3\n",
      "Predict: 0.333 0.000 0.000 0.333 0.000 0.000 0.333 0.000 0.000 0.000\n",
      "Correct: 0.500 0.000 0.000 0.500 0.000 0.000 0.000 0.000 0.000 0.000\n",
      "Loc:  4\n",
      "Predict: 0.000 0.500 0.000 0.000 0.500 0.000 0.000 0.000 0.000 0.000\n",
      "Correct: 0.000 0.500 0.000 0.000 0.500 0.000 0.000 0.000 0.000 0.000\n",
      "Loc:  5\n",
      "Predict: 0.000 0.000 0.500 0.000 0.000 0.500 0.000 0.000 0.000 0.000\n",
      "Correct: 0.000 0.000 0.500 0.000 0.000 0.500 0.000 0.000 0.000 0.000\n",
      "Loc:  6\n",
      "Predict: 0.000 0.000 0.000 0.500 0.000 0.000 0.500 0.000 0.000 0.000\n",
      "Correct: 0.000 0.000 0.000 0.000 0.000 0.000 1.000 0.000 0.000 0.000\n",
      "Loc:  7\n",
      "Predict: 0.000 0.000 0.000 0.000 0.000 0.000 0.000 1.000 0.000 0.000\n",
      "Correct: 0.000 0.000 0.000 0.000 0.000 0.000 0.000 1.000 0.000 0.000\n"
     ]
    }
   ],
   "source": [
    "from numpy import roll\n",
    "\n",
    "# Prediction step\n",
    "def predict_step(bel):\n",
    "    return roll(bel, 1)\n",
    "\n",
    "# Main loop\n",
    "print(\"Initial: \" + ' '.join(f'{bel:.3f}' for bel in bel))\n",
    "\n",
    "for n in range(0, 8):\n",
    "    print(\"Loc: \", n)\n",
    "    \n",
    "    bel = predict_step(bel)\n",
    "    print(\"Predict: \" + ' '.join(f'{bel:.3f}' for bel in bel))\n",
    "    \n",
    "    bel = correct_step(z[n] == world_map, bel)\n",
    "    print(\"Correct: \" + ' '.join(f'{bel:.3f}' for bel in bel))"
   ]
  },
  {
   "cell_type": "markdown",
   "metadata": {},
   "source": [
    "Thus, after the correcting the belief in location 6 the robot concludes with a probability of 100% that it must be in location 6 (i.e. the probability is 1 for location 6). This makes perfectly sense as there now are no longer any ambiguities concerning the true location of the robot since the current sensor reading is \"no light\", i.e. at this step location 6 is the only possible location that fits the sensor readings. From there on the robot is absolute certain of its location.\n",
    "\n",
    "This example illustrates the behaviour of an ideal Bayes Filter, i.e. no measurement errors and no prediction errors."
   ]
  },
  {
   "cell_type": "markdown",
   "metadata": {},
   "source": [
    "## Sensor Noise and Movement Noise\n",
    "Unfortunately there is no such thing as a perfect sensor - they are all prone to errors. Therefore we need to account for *measurement errors* due to these sensor imperfections. One way to do so is to introduce the probability that the sensor reading is correct. This lead us to the concept of *likelihood*. We can model this as a vector that represents the likelihood that the sensor readings are correct. Thus, we provide a arbitrary low value for the locations were the probability of seeing a light is low, and a arbitrary high value where the probability of seeing a light is high.\n",
    "\n",
    "In addition there will also be *prediction errors* due to imperfections in the motor controls that makes the robot move to far or too short. The mathematical operation that combines two probability density functions into one is called *convolution*. As a result, we obtain a new probability density function that express how the shape of one distribution \"blends\" with the other distribution. In our case, we are combining the probability distribution function of a location belief with the probability density function (kernel) that models a noisy movement.\n",
    "\n",
    "We can now modify our algorithm as follows."
   ]
  },
  {
   "cell_type": "code",
   "execution_count": 5,
   "metadata": {},
   "outputs": [
    {
     "name": "stdout",
     "output_type": "stream",
     "text": [
      "Initial:  [0.1 0.1 0.1 0.1 0.1 0.1 0.1 0.1 0.1 0.1]\n",
      "Loc:  0\n",
      "Predict: 0.090 0.100 0.100 0.100 0.100 0.100 0.100 0.100 0.100 0.090\n",
      "Correct: 0.245 0.030 0.030 0.273 0.030 0.030 0.030 0.273 0.030 0.027\n",
      "Loc:  1\n",
      "Predict: 0.046 0.202 0.052 0.055 0.224 0.055 0.030 0.055 0.224 0.052\n",
      "Correct: 0.006 0.236 0.061 0.007 0.262 0.064 0.035 0.007 0.262 0.060\n",
      "Loc:  2\n",
      "Predict: 0.049 0.034 0.196 0.073 0.038 0.217 0.081 0.035 0.035 0.210\n",
      "Correct: 0.007 0.042 0.236 0.010 0.046 0.262 0.097 0.005 0.043 0.254\n",
      "Loc:  3\n",
      "Predict: 0.204 0.035 0.058 0.194 0.036 0.064 0.224 0.105 0.018 0.035\n",
      "Correct: 0.368 0.007 0.012 0.350 0.007 0.013 0.045 0.189 0.004 0.007\n",
      "Loc:  4\n",
      "Predict: 0.042 0.295 0.043 0.045 0.282 0.042 0.015 0.056 0.156 0.022\n",
      "Correct: 0.005 0.339 0.050 0.006 0.323 0.048 0.018 0.007 0.179 0.025\n",
      "Loc:  5\n",
      "Predict: 0.020 0.041 0.277 0.074 0.042 0.264 0.073 0.020 0.025 0.144\n",
      "Correct: 0.003 0.046 0.315 0.009 0.048 0.301 0.083 0.002 0.029 0.164\n",
      "Loc:  6\n",
      "Predict: 0.131 0.023 0.069 0.258 0.044 0.069 0.254 0.097 0.013 0.023\n",
      "Correct: 0.027 0.042 0.125 0.052 0.080 0.126 0.462 0.020 0.024 0.043\n",
      "Loc:  7\n",
      "Predict: 0.037 0.030 0.049 0.110 0.062 0.082 0.155 0.384 0.064 0.021\n",
      "Correct: 0.063 0.006 0.009 0.189 0.012 0.016 0.030 0.660 0.012 0.004\n"
     ]
    }
   ],
   "source": [
    "from numpy import convolve\n",
    "\n",
    "# Initial belief\n",
    "bel = 1/10*ones(10)\n",
    "\n",
    "# Probability of correct sensor reading\n",
    "z_prob = 0.9\n",
    "\n",
    "# Noisy movement (kernel)\n",
    "kernel = array([0.1, 0.8, 0.1])\n",
    "\n",
    "def likelihood(world_map, z, z_prob):\n",
    "    likelihood = ones(len(world_map))\n",
    "    for ind, val in enumerate(world_map):\n",
    "        if val == z:\n",
    "            likelihood[ind] = z_prob\n",
    "        else:\n",
    "            likelihood[ind] = (1 - z_prob)\n",
    "\n",
    "    return likelihood\n",
    "\n",
    "# Prediction step\n",
    "def predict_step(bel):\n",
    "    bel = roll(bel, 1)\n",
    "    return convolve(kernel, bel, 'same')\n",
    "\n",
    "\n",
    "# Main loop\n",
    "#set_printoptions(precision=3, suppress = True)\n",
    "print(\"Initial: \", bel)\n",
    "\n",
    "for n in range(0, 8):\n",
    "    print(\"Loc: \", n)\n",
    "    \n",
    "    bel = predict_step(bel)\n",
    "    print(\"Predict: \" + ' '.join(f'{bel:.3f}' for bel in bel))\n",
    "    \n",
    "    bel = correct_step(likelihood(world_map, z[n], z_prob), bel)\n",
    "    print(\"Correct: \" + ' '.join(f'{bel:.3f}' for bel in bel))"
   ]
  },
  {
   "cell_type": "markdown",
   "metadata": {},
   "source": [
    "So, after the correcting the belief in location 7 the robot concludes with a probability of about 66% that it must be in location 7 (i.e. the probability is 0.66 for location 7). So, even after the introduction of both sensor noise and movement noise, the robot is still able to conclude with a significant probability that it is in the correct location.\n",
    "\n",
    "Note that this probability will increase even further if the robot are allowed to drive through the hallway multiple times."
   ]
  },
  {
   "cell_type": "markdown",
   "metadata": {},
   "source": [
    "## Summary\n",
    "The Bayes Filter assumes the current state is a complete summary of the past, thus this assumption implies that the belief is sufficient to represent the history - this is called a *complete state*.\n",
    "\n",
    "```{note}\n",
    "The *Markov Assumption* postulates that past and future data are independent if one knows the current state.\n",
    "```\n",
    "As stated earlier, the Bayes Filter is not a practical algorithm as it cannot be implemented on a computer. One of the most famous realizations of this filter is the *Kalman Filter*.\n",
    "\n",
    "So, now lets's move on to the Kalman Filter - the main workhorse of sensor fusion..."
   ]
  }
 ],
 "metadata": {
  "kernelspec": {
   "display_name": "Python 3 (ipykernel)",
   "language": "python",
   "name": "python3"
  },
  "language_info": {
   "codemirror_mode": {
    "name": "ipython",
    "version": 3
   },
   "file_extension": ".py",
   "mimetype": "text/x-python",
   "name": "python",
   "nbconvert_exporter": "python",
   "pygments_lexer": "ipython3",
   "version": "3.9.7"
  }
 },
 "nbformat": 4,
 "nbformat_minor": 4
}