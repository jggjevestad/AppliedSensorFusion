{
 "cells": [
  {
   "cell_type": "code",
   "execution_count": null,
   "id": "2352c10f-d199-4a15-884a-fe9785cb27d3",
   "metadata": {},
   "outputs": [],
   "source": []
  },
  {
   "cell_type": "markdown",
   "id": "21e1f89b-9f1f-4a1f-88dd-c79f6fcccefb",
   "metadata": {
    "tags": []
   },
   "source": [
    "### Example 5.3\n",
    "But what happens if we do not have a laser scanner, but the only sensor is a speedometer? Can we still get estimates of both position and velocity? Let's assume the same dynamic model as in the previous example, but this time with only a speedometer available.\n",
    "\n",
    "```{figure} fig/speed.png\n",
    ":name: speedometer\n",
    "\n",
    "```\n",
    "\n",
    "The dynamic model will is the same as before, but we write it again here for completness.\n",
    "\n",
    "$$\n",
    "\\begin{bmatrix}\n",
    "  \\dot{x}\\\\\n",
    "  \\ddot{x}\\\\\n",
    "\\end{bmatrix}\n",
    "=\n",
    "\\begin{bmatrix}\n",
    "  0 &1\\\\\n",
    "  0 &0\\\\\n",
    "\\end{bmatrix}\n",
    "\\begin{bmatrix}\n",
    "  x\\\\\n",
    "  \\dot{x}\\\\\n",
    "\\end{bmatrix}\n",
    "+\n",
    "\\begin{bmatrix}\n",
    "  0\\\\\n",
    "  \\sqrt{q_v}\\\\\n",
    "\\end{bmatrix}\n",
    "u\n",
    "$$\n",
    "\n",
    "Since the only measurements involved are the velocity measurements from the speedometer, the measurement model can be written like this.\n",
    "\n",
    "$$\n",
    "\\begin{bmatrix}\n",
    "  z\n",
    "\\end{bmatrix}\n",
    "=\n",
    "\\begin{bmatrix}\n",
    "  0 &1\\\\\n",
    "\\end{bmatrix}\n",
    "\\begin{bmatrix}\n",
    "  x\\\\\n",
    "  \\dot{x}\\\\\n",
    "\\end{bmatrix}\n",
    "+\n",
    "\\begin{bmatrix}\n",
    "  v\n",
    "\\end{bmatrix}\n",
    "$$"
   ]
  }
 ],
 "metadata": {
  "kernelspec": {
   "display_name": "Python 3 (ipykernel)",
   "language": "python",
   "name": "python3"
  },
  "language_info": {
   "codemirror_mode": {
    "name": "ipython",
    "version": 3
   },
   "file_extension": ".py",
   "mimetype": "text/x-python",
   "name": "python",
   "nbconvert_exporter": "python",
   "pygments_lexer": "ipython3",
   "version": "3.9.7"
  }
 },
 "nbformat": 4,
 "nbformat_minor": 5
}