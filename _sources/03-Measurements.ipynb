{
 "cells": [
  {
   "cell_type": "markdown",
   "metadata": {},
   "source": [
    "(Meas:measurements)=\n",
    "# Measurements\n",
    "Measurements, or the more formal word \"observations\", are in many ways our direct contact with the real world as they contribute with information on how our platform relates to the surroundings.\n",
    "\n",
    "```{note}\n",
    "Eventhough *measurements* and *observations* can be considerred as synomyms in this context, one may find it more natural to use the word *measurement* in this context.\n",
    "\n",
    "Sensors measure - humans observe...\n",
    "```\n",
    "\n",
    "If we for example measure the distance from our trolley to a fixed point, we get information on the position. And if we count the revolutions of one of the wheels, we get information on the velocity.\n",
    "\n",
    "![measure](fig/measure.jpg)\n",
    "\n",
    "But it gets even more complicated than this as time goes by. If you measure position over time you will also indirectly get some information about the velocity. And the other way round, by measuring the velocity over time you will also indirectly get some information about the position. This is due to the fact that both position and velocity are naturally related to one another through the time derivative.\n",
    "\n",
    "$$\n",
    "\\dot{x} = \\frac{dx}{dt}\n",
    "$$\n",
    "\n",
    "In addition there may also likely be other connections beween the elements of the state vector in the dynamic model that also contribute with subtile connections within the system. We will get back to this later, but for now we continue with our trolley on rails."
   ]
  },
  {
   "cell_type": "markdown",
   "metadata": {},
   "source": [
    "## Measurement Equation\n",
    "The measurement equation basically connects the measurements with one or more elements in the state vector. It can be stated as follows.\n",
    "\n",
    "$$\n",
    "z=Hx + v\n",
    "$$\n",
    "\n",
    "where the vector $z$ is the measurement vector, the matrix $H$ is called *design matrix*, the vector $x$ is the state vector and the vector $v$ is the measurement noise. Since we are directly measuring the position which is an element of the state vector, the measurement equation becomes as follows.\n",
    "\n",
    "$$\n",
    "\\begin{bmatrix}\n",
    "  z\n",
    "\\end{bmatrix}\n",
    "=\n",
    "\\begin{bmatrix}\n",
    "  1 &0\\\\\n",
    "\\end{bmatrix}\n",
    "\\begin{bmatrix}\n",
    "  x\\\\\n",
    "  \\dot{x}\\\\\n",
    "\\end{bmatrix}\n",
    "+\n",
    "\\begin{bmatrix}\n",
    "  v\n",
    "\\end{bmatrix}\n",
    "$$\n",
    "\n",
    "Assume that we have a laser scanner on our trolley that measure the distance to a fixed point as in {ref}`Intro:mean_and_variance`. The laserscanner measures the distance every second as the trolley rolls ahead for 10 seconds.\n",
    "\n",
    "```{figure} fig/laserscan.png\n",
    ":name: laserscan_meas\n",
    "\n",
    "Laser Scanner\n",
    "```"
   ]
  },
  {
   "cell_type": "markdown",
   "metadata": {},
   "source": [
    "### Simulating Measurements\n",
    "When working with these initial examples, one problem is that we typically do not have any real measurements available to test the algorithms. So, in this situation it is sometimes useful to use the true process and generate a set of synthetic measurements with some specified measurement noise characteristics. This way we do not have to rely on any real measurements while prototyping, but we can instead simulate the performance of our algorithm with these syntetic measurements.\n",
    "\n",
    "So, the generation of simulated distance measurements from a sensor sampling at 10Hz on our trolley rolling down the rails may look something like this."
   ]
  },
  {
   "cell_type": "code",
   "execution_count": 1,
   "metadata": {},
   "outputs": [
    {
     "data": {
      "image/png": "[encoded data removed]",
      "text/plain": [
       "<Figure size 432x288 with 1 Axes>"
      ]
     },
     "metadata": {
      "needs_background": "light"
     },
     "output_type": "display_data"
    }
   ],
   "source": [
    "from numpy import array, sqrt, random, arange\n",
    "import matplotlib.pyplot as plt\n",
    "\n",
    "# System values\n",
    "dt = 0.1       # interval [seconds] / (i.e. 10Hz)\n",
    "samples = 100  # number of samples\n",
    "qv = 0.01      # process noise [(meter/second)^2/second]\n",
    "r = 0.1        # measurement noise [meter^2]\n",
    "\n",
    "# Inital state vector\n",
    "x0 = array([[0],      # position [meter]\n",
    "            [0.3]])   # velocity [meter/second]\n",
    "xt = x0\n",
    "\n",
    "# Transition matrix\n",
    "phi = array([[1, dt],\n",
    "             [0, 1]])\n",
    "\n",
    "# Design matrix\n",
    "H = array([[1, 0]])\n",
    "\n",
    "# Initialize plot vectors\n",
    "xt_all = []; z_all = []\n",
    "\n",
    "# Main loop\n",
    "for k in range(0, samples + 1):\n",
    "    \n",
    "    # Compute true trajectory\n",
    "    xt = phi@xt + array([[0],\n",
    "                         [random.normal(0, qv)]])\n",
    "    \n",
    "    # Generate noisy measurements\n",
    "    z = H@xt + random.normal(0, sqrt(r))\n",
    "    \n",
    "    # Accumulate plot vectors\n",
    "    xt_all.append(xt)\n",
    "    z_all.append(z)\n",
    "\n",
    "# Extract plot information\n",
    "pos_true = [xt[0, 0] for xt in xt_all]\n",
    "z_sim = [z[0, 0] for z in z_all]\n",
    "\n",
    "# Time\n",
    "time = arange(0, samples + 1)*dt\n",
    "\n",
    "# Plot results\n",
    "plt.title('Simulated Distance Measurements')\n",
    "plt.plot(time, pos_true, 'b', label='True position')\n",
    "plt.plot(time, z_sim, 'ro', label='Simulated measurements')\n",
    "plt.xlabel('Time (second)')\n",
    "plt.ylabel('Position (meter)')\n",
    "plt.legend(loc='lower right')\n",
    "plt.grid();plt.show()"
   ]
  },
  {
   "cell_type": "markdown",
   "metadata": {},
   "source": [
    "Note that real measurements are in general much more complex than these idealized simulated measurements as real measurements contain all sorts of sensor dependent effects such as: biases, scale factors and various sensor errors. In addition they are typically prone to outliers due to e.g. sensor malfunction that we need to adress before we can use them.\n",
    "\n",
    "We will get back to real measurements later, so we stick to the simulated measurements for now."
   ]
  },
  {
   "cell_type": "markdown",
   "metadata": {},
   "source": [
    "### Example 3.1\n",
    "What if the trolley contains a speedometer? Let's say that the sensor counts the number of wheel rotations as a function of time.\n",
    "\n",
    "```{figure} fig/speed.png\n",
    "Wheel Sensor\n",
    "```\n",
    "\n",
    "The first thing we need to to is to establish the connection between our velocity measurement and the elements of the state vector through the measurement equation.\n",
    "\n",
    "$$\n",
    "z = Hx + v\n",
    "$$\n",
    "\n",
    "Let's say we want to estimate velocity with this new sensor. A simple velocity sensor can be expressed as follows.\n",
    "\n",
    "$$\n",
    "v = \\frac{2 \\pi r}{\\Delta t}\n",
    "$$\n",
    "\n",
    "where $v$ is the velocity, $r$ is the wheel radius and $\\Delta t$ is the measured time interval between the pulses coming from the sensor. Thus the measurement equation can be written as follows.\n",
    "\n",
    "$$\n",
    "z = \\frac{1}{2 \\pi r}\\dot{x}\n",
    "$$\n",
    "\n",
    "In matrix form it will look something like this.\n",
    "\n",
    "$$\n",
    "\\begin{bmatrix}\n",
    "  z\\\\\n",
    "\\end{bmatrix}\n",
    "=\n",
    "\\begin{bmatrix}\n",
    "  0 &\\frac{1}{2 \\pi r}\\\\\n",
    "\\end{bmatrix}\n",
    "\\begin{bmatrix}\n",
    "  x\\\\\n",
    "  \\dot{x}\\\\\n",
    "\\end{bmatrix}\n",
    "+\n",
    "\\begin{bmatrix}\n",
    "  v\\\\\n",
    "\\end{bmatrix}\n",
    "$$\n",
    "\n",
    "Note that if we estimate the velocity this way, we will get all our measurements with varying frequency depending on the velocity. Thus we get more measurements when the velocity is high, and fewer measurements when the velocity is low. This behaviour doesn't fit well in a digital filter design, so in practice we will need to resample these measurements at constant intervals before they enter the filter. This resampling is typically done at the sensor side in order for the sensor to provide measurements at constant time intervals.\n",
    "\n",
    "```{note}\n",
    "Note that most digital sensors that we use for navigation will typically provide their measurements at constant time intervals.\n",
    "```\n",
    "\n",
    "Then how do we deal with measurements having different sampling rates and also out of synchronization? We get back to this later on. For now we assume that the measurements are provided by the sensor at constant time intervals."
   ]
  },
  {
   "cell_type": "markdown",
   "metadata": {},
   "source": [
    "(Meas:nonlinear)=\n",
    "## Non-Linear Measurements\n",
    "So, until now we have been looking at measurement equations that have a linear relationship between the measurements and the elements of the state vector, e.g. the distance and velocity measurements in the previous examples.\n",
    "\n",
    "But what happens when the relationship is non-linear? One simple example of getting a non-linear relationship between the measurements and the elements of the state vector is by mounting our laser scanner a little bit higher, thus measuring the slope distance.\n",
    "\n",
    "```{figure} fig/laserscan_nl.png\n",
    ":name: laserscan_nl\n",
    "\n",
    "Laser Scanner (high mount)\n",
    "```\n",
    "\n",
    "Again the first thing we need to do is to establish the connection between our measured slope distance and the elements of the state vector through the measurement equation.\n",
    "\n",
    "$$\n",
    "z = Hx + v\n",
    "$$\n",
    "\n",
    "The relationship between the measured slope distance and the elements of the state vector can easilly be derived from the figure. It will look something like this.\n",
    "\n",
    "$$\n",
    "z = f(x, h) = \\sqrt{x^2 + h^2}\n",
    "$$\n",
    "\n",
    "where $z$ is the slope distance, $x$ is the position and $h$ is the mounting height. The mounting height is here assumed to be constant.\n",
    "\n",
    "This is obviously a non-linear equation that doesn't fit our generic linear measurement equation. Therefore it must be linearized in order to be able to use our linear framwork. In practice the actual linearization is done through *Jacobian matrices* while introducing a set of preliminary values to represent geometry at every instant in time. The Jacobian matrix is a essentially a generalization of the gradient of a vector valued function of several variables.\n",
    "\n",
    "### Preliminary values\n",
    "In order to establish an approximation of the correct geometry, we need to introduce *preliminary values* to represent these quantities. In the following example we will need to introduce prelimary values for both the slope distance and the unknown position.\n",
    "\n",
    "$$\n",
    "\\begin{align}\n",
    "  s =& s_0 + ds\\\\\n",
    "  x =& x_0 + dx\\\\\n",
    "\\end{align}\n",
    "$$\n",
    "\n",
    "First we will rename the slope distance from $z$ to $s$ to avoid confusion with our previous notation. Then we can approximate the slope distance as follows.\n",
    "\n",
    "$$\n",
    "s \\approx s_0 + \\frac{\\partial f(x)}{\\partial x} dx\n",
    "$$\n",
    "\n",
    "where $s$ is the slope distance and $s_0$ is the preliminary slope distance. Rearranging the equation slightly and introducing the preliminary values for the unknowns, we can now write like this.\n",
    "\n",
    "$$\n",
    "s - s_0 = \\frac{x_0}{\\sqrt{x_0^2 + h^2}} dx\n",
    "$$\n",
    "\n",
    "For completness, we also write the linear matrix form of the measurement equation. It becomes like this.\n",
    "\n",
    "$$\n",
    "z = Hx + v\n",
    "$$\n",
    "\n",
    "$$\n",
    "\\begin{bmatrix}\n",
    "  s - s_0\\\\\n",
    "\\end{bmatrix}\n",
    "=\n",
    "\\begin{bmatrix}\n",
    "  \\frac{x_0}{\\sqrt{x_0^2 + h^2}}\\\\\n",
    "\\end{bmatrix}\n",
    "\\begin{bmatrix}\n",
    "  dx\\\\\n",
    "\\end{bmatrix}\n",
    "+\n",
    "\\begin{bmatrix}\n",
    "  v\\\\\n",
    "\\end{bmatrix}\n",
    "$$"
   ]
  },
  {
   "cell_type": "markdown",
   "metadata": {},
   "source": [
    "```{note}\n",
    "Note that that by the use of *sympy's* internal Jacobian function we can effectively derive the design matrix representing our linearized slope distance.\n",
    "```"
   ]
  },
  {
   "cell_type": "markdown",
   "metadata": {},
   "source": [
    "This is the same as the one we derived above as we expected."
   ]
  },
  {
   "cell_type": "code",
   "execution_count": 2,
   "metadata": {},
   "outputs": [
    {
     "data": {
      "text/latex": [
       "$\\displaystyle \\left[\\begin{matrix}\\frac{x_{0}}{\\sqrt{h^{2} + x_{0}^{2}}}\\end{matrix}\\right]$"
      ],
      "text/plain": [
       "Matrix([[x0/sqrt(h**2 + x0**2)]])"
      ]
     },
     "metadata": {},
     "output_type": "display_data"
    }
   ],
   "source": [
    "from sympy import Matrix, symbols, sqrt\n",
    "\n",
    "x0, h = symbols('x0 h')\n",
    "\n",
    "# Measurement equation\n",
    "s = Matrix([sqrt(x0**2 + h**2)])\n",
    "\n",
    "# Vector of variables\n",
    "y = Matrix([x0])\n",
    "\n",
    "# Design matrix\n",
    "H = s.jacobian(y)\n",
    "display(H)"
   ]
  },
  {
   "cell_type": "markdown",
   "metadata": {},
   "source": [
    "From now on we will use this approach whenever we need to establish linearized versions of any non-linear equations. This goes both for the dynamic equations and for the measurement equations as they both may be non-linear by nature."
   ]
  },
  {
   "cell_type": "markdown",
   "metadata": {},
   "source": [
    "### Example 3.2\n",
    "To verify the validity of our linearization, we introduce a numerical example based on a our measured slope distance with the laser scanner. Note that the number of significant digits in the results below are intentionally chosen to be somewhat large, i.e. five digits. However, the reason for this is to visualise the level of significant digits in which the iteration converges."
   ]
  },
  {
   "cell_type": "code",
   "execution_count": 3,
   "metadata": {},
   "outputs": [
    {
     "name": "stdout",
     "output_type": "stream",
     "text": [
      "Estimated position (non-linear):    3.32278 m\n",
      "Estimated position (linearized):    3.37958 m\n"
     ]
    }
   ],
   "source": [
    "from numpy import array, sqrt\n",
    "from numpy.linalg import inv\n",
    "\n",
    "# Initial values\n",
    "h = 1       # Mounting height [meter]\n",
    "s = 3.47    # Measured slope distance [meter]\n",
    "x0 = 2.0    # Preliminary position [meter]\n",
    "\n",
    "\n",
    "# 1. Estimated position from slope distance (non-linear)\n",
    "x = sqrt(s**2 - h**2)\n",
    "print(f\"Estimated position (non-linear): {x:10.5f} m\")\n",
    "\n",
    "\n",
    "# 2. Estimated position from slope distance (linearized)\n",
    "\n",
    "# Preliminary slope distance\n",
    "s0 = sqrt(x0**2 + h**2)\n",
    "\n",
    "# Measurement vector\n",
    "z = s - s0\n",
    "\n",
    "# Design matrix\n",
    "H = x0/sqrt(x0**2 + h**2)\n",
    "\n",
    "# Compute position\n",
    "dx = 1/H*z\n",
    "x = x0 + dx\n",
    "print(f\"Estimated position (linearized): {x:10.5f} m\")"
   ]
  },
  {
   "cell_type": "markdown",
   "metadata": {},
   "source": [
    "Note the slight change in the value from the 2nd decimal onwards. The reason for this difference is the acurracy of the preliminary value $x_0$. Depending on the problem at hand, it is usually easy to provide reasonably good preliminary values for the geometry represented by the design matrix. Since the original measurement equation is linearized, it can only represent the linear trend in the original equaition. Thus for the approximation to reflect the true geometry, the preliminary value must be close enough to the unknown true value for the linear appriximation to reflect the real changes. Thus in practice we will have to iterate the solution until it converges to the true value."
   ]
  },
  {
   "cell_type": "code",
   "execution_count": 4,
   "metadata": {},
   "outputs": [
    {
     "name": "stdout",
     "output_type": "stream",
     "text": [
      "Iteration 0 :    3.37958 m\n",
      "Iteration 1 :    3.32282 m\n",
      "Iteration 2 :    3.32278 m\n"
     ]
    }
   ],
   "source": [
    "# Iterate to improve the preliminary value\n",
    "for i in range(0, 3):\n",
    "    \n",
    "    # Preliminary slope distance\n",
    "    s0 = sqrt(x0**2 + h**2)\n",
    "    \n",
    "    # Measurement vector\n",
    "    z = array(s - s0)\n",
    "    \n",
    "    # Design matrix\n",
    "    H = x0/sqrt(x0**2 + h**2)\n",
    "    \n",
    "    # Compute position\n",
    "    dx = 1/H*z\n",
    "    x0 = x0 + dx\n",
    "    print(f\"Iteration {i:d} : {x0:10.5f} m\")"
   ]
  },
  {
   "cell_type": "markdown",
   "metadata": {},
   "source": [
    "## Summary\n",
    "In this chapter we have breifly looked into the functional relationship between the measurements and the elements of the state vector. We will get back to this later on, but for now it will serve as an introduction to the concepts of a linear measurement equation. Further we looked into how we could simulate a set of measurements based on a computed trajectory from a dynamic model.\n",
    "\n",
    "At last we also touched the linearization of non-linear measurement equations and the introduction of preliminary values to establish a representative geometry for the problem at hand.\n",
    "\n",
    "The linearization of non-linear equations can be generalized as follows.\n",
    "\n",
    "$$\n",
    "\\begin{align}\n",
    "  z =& f(x, y, \\dots)\\\\\n",
    "  z =& f(x_0 + dx, y_0 + dy, \\dots)\\\\\n",
    "  \\vdots \\\\\n",
    "  z \\approx& f(x_0, y_0, \\dots) + \\frac{\\partial f(x, y, \\dots)}{\\partial x}dx + \\frac{\\partial f(x, y, \\dots)}{\\partial y}dy + \\dots\\\\\n",
    "\\end{align}\n",
    "$$\n",
    "\n",
    "So, now it's about time to put it all togehter - we are ready for our very first generic approach to the filtering problem through what is also known as the Bayes filter..."
   ]
  }
 ],
 "metadata": {
  "kernelspec": {
   "display_name": "Python 3 (ipykernel)",
   "language": "python",
   "name": "python3"
  },
  "language_info": {
   "codemirror_mode": {
    "name": "ipython",
    "version": 3
   },
   "file_extension": ".py",
   "mimetype": "text/x-python",
   "name": "python",
   "nbconvert_exporter": "python",
   "pygments_lexer": "ipython3",
   "version": "3.9.7"
  }
 },
 "nbformat": 4,
 "nbformat_minor": 4
}
